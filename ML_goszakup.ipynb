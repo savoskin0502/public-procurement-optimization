{
  "nbformat": 4,
  "nbformat_minor": 0,
  "metadata": {
    "colab": {
      "provenance": [],
      "gpuType": "V28",
      "authorship_tag": "ABX9TyNLDrkxS5AspZc+qQXuLzmw",
      "include_colab_link": true
    },
    "kernelspec": {
      "name": "python3",
      "display_name": "Python 3"
    },
    "language_info": {
      "name": "python"
    },
    "accelerator": "TPU"
  },
  "cells": [
    {
      "cell_type": "markdown",
      "metadata": {
        "id": "view-in-github",
        "colab_type": "text"
      },
      "source": [
        "<a href=\"https://colab.research.google.com/github/savoskin0502/public-procurement-optimization/blob/main/ML_goszakup.ipynb\" target=\"_parent\"><img src=\"https://colab.research.google.com/assets/colab-badge.svg\" alt=\"Open In Colab\"/></a>"
      ]
    },
    {
      "cell_type": "code",
      "execution_count": null,
      "metadata": {
        "colab": {
          "base_uri": "https://localhost:8080/"
        },
        "id": "ncJMENz2c92G",
        "outputId": "68b419d4-9db6-42f4-8313-81b05c77cbd4"
      },
      "outputs": [
        {
          "output_type": "stream",
          "name": "stdout",
          "text": [
            "      total  limit                                       next_page  \\\n",
            "0  19287590     50  /v3/plans/spec?page=next&search_after=45032776   \n",
            "1  19287590     50  /v3/plans/spec?page=next&search_after=45032776   \n",
            "2  19287590     50  /v3/plans/spec?page=next&search_after=45032776   \n",
            "3  19287590     50  /v3/plans/spec?page=next&search_after=45032776   \n",
            "4  19287590     50  /v3/plans/spec?page=next&search_after=45032776   \n",
            "\n",
            "                                               items  \n",
            "0  {'id': 45033335, 'pln_points_id': 73414889, 'r...  \n",
            "1  {'id': 45033324, 'pln_points_id': 73417077, 'r...  \n",
            "2  {'id': 45033302, 'pln_points_id': 73417048, 'r...  \n",
            "3  {'id': 45033285, 'pln_points_id': 73417028, 'r...  \n",
            "4  {'id': 45033257, 'pln_points_id': 73416943, 'r...  \n"
          ]
        }
      ],
      "source": [
        "import requests\n",
        "import pandas as pd\n",
        "from google.colab import userdata\n",
        "\n",
        "api_key = userdata.get('api_key')\n",
        "\n",
        "# Define API details\n",
        "base_url = \"https://ows.goszakup.gov.kz/\"  # Replace with the actual base URL\n",
        "endpoint = \"/v3/plans/spec\"\n",
        "url = base_url + endpoint\n",
        "\n",
        "# Authorization token\n",
        "headers = {\n",
        "    \"Authorization\": \"Bearer \" + api_key,\n",
        "    \"Content-Type\": \"application/json\",\n",
        "}\n",
        "\n",
        "# Make the GET request\n",
        "response = requests.get(url, headers=headers)\n",
        "\n",
        "# Check if the request was successful\n",
        "if response.status_code == 200:\n",
        "    data = response.json()  # Parse the JSON response\n",
        "    # Convert to DataFrame\n",
        "    df = pd.DataFrame(data)\n",
        "    print(df.head())  # Display the first few rows of the DataFrame\n",
        "else:\n",
        "    print(f\"Error: {response.status_code}\")\n",
        "    print(response.text)"
      ]
    },
    {
      "cell_type": "code",
      "source": [
        "all_items = []\n",
        "for item in df['items']:\n",
        "    normalized_item = pd.json_normalize(item)\n",
        "    all_items.append(normalized_item)\n",
        "\n",
        "# Concatenate all normalized items into a single DataFrame\n",
        "all_items_df = pd.concat(all_items, ignore_index=True)\n",
        "\n",
        "all_items_df.info()"
      ],
      "metadata": {
        "colab": {
          "base_uri": "https://localhost:8080/"
        },
        "id": "SnWKZvbC8GcN",
        "outputId": "18b48b6f-56b0-41cf-8eeb-f8d2b6bd2032"
      },
      "execution_count": null,
      "outputs": [
        {
          "output_type": "stream",
          "name": "stdout",
          "text": [
            "<class 'pandas.core.frame.DataFrame'>\n",
            "RangeIndex: 50 entries, 0 to 49\n",
            "Data columns (total 25 columns):\n",
            " #   Column                   Non-Null Count  Dtype  \n",
            "---  ------                   --------------  -----  \n",
            " 0   id                       50 non-null     int64  \n",
            " 1   pln_points_id            50 non-null     int64  \n",
            " 2   ref_ekrb_id              50 non-null     int64  \n",
            " 3   ekrb_code                50 non-null     object \n",
            " 4   ekrb_name_ru             50 non-null     object \n",
            " 5   ekrb_name_kz             50 non-null     object \n",
            " 6   count                    50 non-null     float64\n",
            " 7   price                    50 non-null     float64\n",
            " 8   ref_fkrb_subprogram_id   50 non-null     int64  \n",
            " 9   fkrb_subprogram_code     50 non-null     object \n",
            " 10  fkrb_subprogram_name_ru  50 non-null     object \n",
            " 11  fkrb_subprogram_name_kz  50 non-null     object \n",
            " 12  ref_fkrb_id              50 non-null     int64  \n",
            " 13  abp_code                 50 non-null     object \n",
            " 14  abp_name_ru              50 non-null     object \n",
            " 15  abp_name_kz              50 non-null     object \n",
            " 16  amount                   50 non-null     float64\n",
            " 17  ref_fkrb_program_id      50 non-null     int64  \n",
            " 18  fkrb_program_code        50 non-null     object \n",
            " 19  fkrb_program_name_ru     50 non-null     object \n",
            " 20  fkrb_program_name_kz     50 non-null     object \n",
            " 21  is_active                50 non-null     int64  \n",
            " 22  is_deleted               50 non-null     int64  \n",
            " 23  system_id                50 non-null     int64  \n",
            " 24  index_date               50 non-null     object \n",
            "dtypes: float64(3), int64(9), object(13)\n",
            "memory usage: 9.9+ KB\n"
          ]
        }
      ]
    }
  ]
}